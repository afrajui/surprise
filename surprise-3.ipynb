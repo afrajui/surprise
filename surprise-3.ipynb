{
 "cells": [
  {
   "cell_type": "markdown",
   "id": "cc7cc791",
   "metadata": {},
   "source": [
    "# Hey Davide, fill in this to figure out your surprise :) "
   ]
  },
  {
   "cell_type": "code",
   "execution_count": 3,
   "id": "e1e187f1",
   "metadata": {},
   "outputs": [],
   "source": [
    "#hidden\n",
    "\n",
    "import numpy as np\n",
    "from matplotlib import pyplot as plt\n",
    "from scipy import integrate\n",
    "from ipywidgets import interactive, fixed"
   ]
  },
  {
   "cell_type": "markdown",
   "id": "867be8cf",
   "metadata": {},
   "source": [
    "1. Go to Google CALender (sorry i had to), what does the location of our anniversary date say?  "
   ]
  },
  {
   "cell_type": "code",
   "execution_count": 4,
   "id": "de0d6866",
   "metadata": {},
   "outputs": [
    {
     "name": "stdout",
     "output_type": "stream",
     "text": [
      "...\n"
     ]
    }
   ],
   "source": [
    "print(\"...\")"
   ]
  },
  {
   "cell_type": "markdown",
   "id": "6200b760",
   "metadata": {},
   "source": [
    "2. Go to Daily Cats shared alBUM (you have a nice bum :D). Ok anyways, what is the caption? "
   ]
  },
  {
   "cell_type": "code",
   "execution_count": 5,
   "id": "80dde8df",
   "metadata": {},
   "outputs": [
    {
     "name": "stdout",
     "output_type": "stream",
     "text": [
      "\n"
     ]
    }
   ],
   "source": [
    "print(\"...\")"
   ]
  },
  {
   "cell_type": "markdown",
   "id": "a32f9872",
   "metadata": {},
   "source": [
    "3. I yam ______bad for you. Fill in the blanks. *slang word* opposite of up"
   ]
  },
  {
   "cell_type": "code",
   "execution_count": null,
   "id": "1ad3914d",
   "metadata": {},
   "outputs": [],
   "source": [
    "print(\"...\")"
   ]
  },
  {
   "cell_type": "markdown",
   "id": "f72875bc",
   "metadata": {},
   "source": [
    "4. Now text my mofos Vishal, Magnus, Ruka, Yolanda. 4. Ask them letters :) they shall give and put it based on the numerial order of their names. "
   ]
  },
  {
   "cell_type": "code",
   "execution_count": null,
   "id": "b6963dfa",
   "metadata": {},
   "outputs": [],
   "source": [
    "print(\"...\")"
   ]
  },
  {
   "cell_type": "markdown",
   "id": "de56c752",
   "metadata": {},
   "source": [
    "# Read it into a sentence and congrats you figured it out!! I advise you to maybe catch your surprise before it's gone :)"
   ]
  },
  {
   "cell_type": "code",
   "execution_count": null,
   "id": "1d9ff28f",
   "metadata": {},
   "outputs": [],
   "source": []
  }
 ],
 "metadata": {
  "kernelspec": {
   "display_name": "Python 3 (ipykernel)",
   "language": "python",
   "name": "python3"
  },
  "language_info": {
   "codemirror_mode": {
    "name": "ipython",
    "version": 3
   },
   "file_extension": ".py",
   "mimetype": "text/x-python",
   "name": "python",
   "nbconvert_exporter": "python",
   "pygments_lexer": "ipython3",
   "version": "3.9.13"
  }
 },
 "nbformat": 4,
 "nbformat_minor": 5
}
